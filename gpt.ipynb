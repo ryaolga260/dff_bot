{
 "cells": [
  {
   "cell_type": "code",
   "execution_count": 1,
   "id": "d1feee2b-c442-49b6-98e4-43b7fe1e692a",
   "metadata": {},
   "outputs": [
    {
     "name": "stdout",
     "output_type": "stream",
     "text": [
      "Sat Jun 11 13:30:32 2022       \n",
      "+-----------------------------------------------------------------------------+\n",
      "| NVIDIA-SMI 450.156.00   Driver Version: 450.156.00   CUDA Version: 11.0     |\n",
      "|-------------------------------+----------------------+----------------------+\n",
      "| GPU  Name        Persistence-M| Bus-Id        Disp.A | Volatile Uncorr. ECC |\n",
      "| Fan  Temp  Perf  Pwr:Usage/Cap|         Memory-Usage | GPU-Util  Compute M. |\n",
      "|                               |                      |               MIG M. |\n",
      "|===============================+======================+======================|\n",
      "|   0  Tesla V100-SXM3...  On   | 00000000:39:00.0 Off |                    0 |\n",
      "| N/A   39C    P0    53W / 350W |      0MiB / 32510MiB |      0%      Default |\n",
      "|                               |                      |                  N/A |\n",
      "+-------------------------------+----------------------+----------------------+\n",
      "                                                                               \n",
      "+-----------------------------------------------------------------------------+\n",
      "| Processes:                                                                  |\n",
      "|  GPU   GI   CI        PID   Type   Process name                  GPU Memory |\n",
      "|        ID   ID                                                   Usage      |\n",
      "|=============================================================================|\n",
      "|  No running processes found                                                 |\n",
      "+-----------------------------------------------------------------------------+\n"
     ]
    }
   ],
   "source": [
    "!nvidia-smi"
   ]
  },
  {
   "cell_type": "code",
   "execution_count": 2,
   "id": "e63171db-aa45-4b14-b37b-834855988ed1",
   "metadata": {},
   "outputs": [],
   "source": [
    "#!pip install transformers==4.10.3"
   ]
  },
  {
   "cell_type": "code",
   "execution_count": 3,
   "id": "044abb75-4b37-4b81-8431-27b69c2ab21d",
   "metadata": {},
   "outputs": [],
   "source": [
    "#!pip install seaborn"
   ]
  },
  {
   "cell_type": "code",
   "execution_count": 4,
   "id": "762c7e02-9383-4384-8ed8-46b0af7c8372",
   "metadata": {},
   "outputs": [],
   "source": [
    "#!pip install pytextspan razdel"
   ]
  },
  {
   "cell_type": "code",
   "execution_count": 104,
   "id": "a3f8b442-ec0a-420e-856a-84d994f23fd5",
   "metadata": {},
   "outputs": [
    {
     "name": "stdout",
     "output_type": "stream",
     "text": [
      "Collecting sklearn_crfsuite\n",
      "  Downloading sklearn_crfsuite-0.3.6-py2.py3-none-any.whl (12 kB)\n",
      "Requirement already satisfied: tabulate in /home/user/conda/lib/python3.7/site-packages (from sklearn_crfsuite) (0.8.9)\n",
      "Requirement already satisfied: six in /home/user/conda/lib/python3.7/site-packages (from sklearn_crfsuite) (1.16.0)\n",
      "Requirement already satisfied: tqdm>=2.0 in /home/jovyan/.imgenv-oleg-mgpt-0/lib/python3.7/site-packages (from sklearn_crfsuite) (4.62.0)\n",
      "Collecting python-crfsuite>=0.8.3\n",
      "  Downloading python_crfsuite-0.9.8-cp37-cp37m-manylinux_2_17_x86_64.manylinux2014_x86_64.whl (965 kB)\n",
      "     |████████████████████████████████| 965 kB 1.4 MB/s            \n",
      "\u001b[?25hInstalling collected packages: python-crfsuite, sklearn-crfsuite\n",
      "Successfully installed python-crfsuite-0.9.8 sklearn-crfsuite-0.3.6\n"
     ]
    }
   ],
   "source": [
    "#!pip install sklearn_crfsuite"
   ]
  },
  {
   "cell_type": "code",
   "execution_count": 5,
   "id": "ba712ddc-1196-4005-97af-663a6bb01e00",
   "metadata": {},
   "outputs": [],
   "source": [
    "#!pip install seqeval"
   ]
  },
  {
   "cell_type": "code",
   "execution_count": 6,
   "id": "01d41b05",
   "metadata": {},
   "outputs": [
    {
     "name": "stderr",
     "output_type": "stream",
     "text": [
      "2022-06-11 13:30:33.513656: I tensorflow/stream_executor/platform/default/dso_loader.cc:48] Successfully opened dynamic library libcudart.so.10.1\n"
     ]
    },
    {
     "data": {
      "text/plain": [
       "'4.10.3'"
      ]
     },
     "execution_count": 6,
     "metadata": {},
     "output_type": "execute_result"
    }
   ],
   "source": [
    "import transformers\n",
    "transformers.__version__"
   ]
  },
  {
   "cell_type": "code",
   "execution_count": 99,
   "id": "bea4fa1c",
   "metadata": {},
   "outputs": [],
   "source": [
    "import torch\n",
    "import numpy as np\n",
    "from tqdm import tqdm\n",
    "import sys\n",
    "import os\n",
    "import pickle\n",
    "import random\n",
    "from dataclasses import dataclass, field\n",
    "from typing import List, Dict, Union\n",
    "import json\n",
    "import re\n",
    "import pandas as pd\n",
    "import razdel\n",
    "import textspan\n",
    "from sklearn.metrics import *\n",
    "import seaborn as sns\n",
    "import matplotlib.pyplot as plt\n",
    "from sklearn.metrics import confusion_matrix\n",
    "from seqeval.metrics import f1_score, classification_report\n",
    "from sklearn.preprocessing import MultiLabelBinarizer  \n",
    "\n",
    "\n",
    "# sys.path.append('..')\n",
    "# from generate import generate\n",
    "# from dataset import get_single_file_dataloader, get_multi_file_dataloader\n",
    "# from inference import load_mgpt_xl, load_mgpt_13b, load_rugpt_xl\n",
    "\n",
    "import warnings\n",
    "warnings.simplefilter(\"ignore\")"
   ]
  },
  {
   "cell_type": "code",
   "execution_count": 8,
   "id": "61ad35b8",
   "metadata": {},
   "outputs": [],
   "source": [
    "from transformers import GPT2LMHeadModel, GPT2Tokenizer\n",
    "tokenizer = GPT2Tokenizer.from_pretrained(\"sberbank-ai/mGPT\")\n",
    "model = GPT2LMHeadModel.from_pretrained(\"sberbank-ai/mGPT\")\n",
    "\n",
    "# model = load_mgpt_13b('/home/jovyan/MGPT13b/multilingual3_1_tune512_28_84000_merged/')"
   ]
  },
  {
   "cell_type": "code",
   "execution_count": 9,
   "id": "ab25aa60-8274-4c42-8d69-2d73cc6f2f51",
   "metadata": {},
   "outputs": [],
   "source": [
    "import torch\n",
    "device = torch.device('cuda')"
   ]
  },
  {
   "cell_type": "code",
   "execution_count": 10,
   "id": "78435fe0-70b7-43bd-ade8-c2dca7b1ddbb",
   "metadata": {},
   "outputs": [],
   "source": [
    "model=model.to(device)"
   ]
  },
  {
   "cell_type": "code",
   "execution_count": 11,
   "id": "0e3a08b0-c093-4b71-8012-baab859b619b",
   "metadata": {},
   "outputs": [
    {
     "name": "stdout",
     "output_type": "stream",
     "text": [
      "/home/jovyan/olga_experiments\n"
     ]
    }
   ],
   "source": [
    "!pwd"
   ]
  },
  {
   "cell_type": "code",
   "execution_count": 125,
   "id": "998ef3a8-7210-4850-8b24-f2caa2f7ee88",
   "metadata": {},
   "outputs": [],
   "source": [
    "train_lang = 'en'\n",
    "prompts = {0: \"<s>lang: \", 1: \"\\nTagged sentence: \", 2: '</s>'}\n",
    "def format_train_data(sent):\n",
    "    sent = sent.replace('\\n','@@@')\n",
    "    sent = re.sub(r'\\s+', ' ', sent)\n",
    "    sent = sent.replace(' ','_')\n",
    "    sent = ' '.join(random.choices(re.sub('@@@', ' ', sent).strip().split(), k=45))\n",
    "    result = prompts[0] +train_lang+ prompts[1] +sent+ prompts[2]\n",
    "    return result\n",
    "\n",
    "def format_test_data(sent, i, lang):\n",
    "    sent = sent.replace('\\n','@@@')\n",
    "    sent = re.sub(r'\\s+', ' ', sent)\n",
    "    sent = sent.replace(' ','_')\n",
    "    sent = re.sub('@@@', ' ', sent).strip().split()\n",
    "    result = prompts[0] +lang+ prompts[1] +' '.join(sent[:i]) + ' ' \\\n",
    "             + sent[i].split('_')[0] + '_'\n",
    "    return ' '.join(sent[:i]) + ' ' + sent[i].split('_')[0] + '_'\n",
    "\n",
    "#en_data = format_train_data(open(\"en_data/train.txt\").read())"
   ]
  },
  {
   "cell_type": "code",
   "execution_count": 126,
   "id": "bcad0d3e-53b3-47f9-91f0-463bff97730f",
   "metadata": {},
   "outputs": [],
   "source": [
    "tagset = {line.strip().split()[-1] for line in open(\"en_data/train.txt\") if line.strip()}"
   ]
  },
  {
   "cell_type": "code",
   "execution_count": 127,
   "id": "de313bdc-8416-4492-8a1b-a599f41edfe9",
   "metadata": {},
   "outputs": [],
   "source": [
    "en_data = format_test_data(open(\"en_data/test.txt\").read(), 80, 'en')"
   ]
  },
  {
   "cell_type": "code",
   "execution_count": null,
   "id": "39e7e58a-9844-4906-96a8-9b776686e65c",
   "metadata": {},
   "outputs": [],
   "source": []
  },
  {
   "cell_type": "code",
   "execution_count": 128,
   "id": "b7ce3b1e-9665-4879-ac0c-30e184648cff",
   "metadata": {},
   "outputs": [],
   "source": [
    "#СЧИТАЕМ ДЛЯ АНГЛИЙСКОГО"
   ]
  },
  {
   "cell_type": "code",
   "execution_count": 129,
   "id": "553fd8af-3890-44bf-9aaf-58bd8d003197",
   "metadata": {},
   "outputs": [],
   "source": [
    "data = pd.read_csv(\"ner_data_csv/en_train_translated_new.csv\", encoding=\"utf-8\", nrows=100).fillna(method=\"ffill\")"
   ]
  },
  {
   "cell_type": "code",
   "execution_count": 130,
   "id": "b3638c1e-c992-4c52-aa1e-3de2c4fc2f9a",
   "metadata": {},
   "outputs": [],
   "source": [
    "clean_texts_en = [w for w in data[\"tokens\"]]\n",
    "#print(clean_texts_en)"
   ]
  },
  {
   "cell_type": "code",
   "execution_count": 131,
   "id": "b68c825e-dca8-44ae-b65a-aa7626476ba1",
   "metadata": {},
   "outputs": [],
   "source": [
    "valid_tags_en = [eval(s) for s in data[\"BIO\"]]\n",
    "#print(valid_tags_en)"
   ]
  },
  {
   "cell_type": "code",
   "execution_count": 132,
   "id": "d7956f66-edcd-4593-825b-13fbf088e9f0",
   "metadata": {},
   "outputs": [],
   "source": [
    "def hypotheses(sent):\n",
    "    pref = en_data+sent\n",
    "    hyps = [pref+tag for tag in tagset]\n",
    "    return hyps, tagset\n",
    "\n",
    "def choose_tag(sentence):\n",
    "    losses = {}\n",
    "    hyps, tagset = hypotheses(sentence)\n",
    "    for tag, hyp in zip(tagset, hyps):\n",
    "        input_ids = tokenizer.encode(hyp, return_tensors='pt').cuda(device)\n",
    "        model_output = model.forward(input_ids, labels=input_ids)\n",
    "        losses[tag] = float(model_output[\"loss\"].cpu().detach().numpy())\n",
    "    return min(losses, key=losses.get)\n",
    "\n",
    "def get_ner(text_to_tag):\n",
    "    text_tokens = text_to_tag.split()\n",
    "    sentence = ''\n",
    "    text_tags = []\n",
    "    result = {}\n",
    "    for token in text_tokens:\n",
    "        sentence += token+'_'\n",
    "        next_tag = choose_tag(sentence)\n",
    "        text_tags.append(next_tag)\n",
    "        sentence += next_tag+ ' '\n",
    "    for word, tag in zip(text_to_tag.split(), text_tags):\n",
    "        result[word] = tag\n",
    "    return text_tags"
   ]
  },
  {
   "cell_type": "code",
   "execution_count": 133,
   "id": "69f67f44-f48b-4b94-abb2-7a47383ba756",
   "metadata": {},
   "outputs": [
    {
     "name": "stderr",
     "output_type": "stream",
     "text": [
      "100%|████████████████████████████████████████████████████████████████████████| 100/100 [07:37<00:00,  4.58s/it]\n"
     ]
    }
   ],
   "source": [
    "pred_tags_en = []\n",
    "for text in tqdm(clean_texts_en):    \n",
    "    pred_tags_en.append(get_ner(text))"
   ]
  },
  {
   "cell_type": "code",
   "execution_count": 134,
   "id": "b26e8f8e-1700-4bf5-90ae-eaa165bd2ad3",
   "metadata": {},
   "outputs": [
    {
     "name": "stdout",
     "output_type": "stream",
     "text": [
      "0.6294416243654822\n"
     ]
    }
   ],
   "source": [
    "print(f1_score(pred_tags_en, valid_tags_en))"
   ]
  },
  {
   "cell_type": "code",
   "execution_count": 135,
   "id": "7e989e85-f54a-47be-94a2-7848b8af5771",
   "metadata": {},
   "outputs": [
    {
     "name": "stdout",
     "output_type": "stream",
     "text": [
      "              precision    recall  f1-score   support\n",
      "\n",
      "        area       0.88      0.65      0.75        23\n",
      "        food       0.97      0.57      0.72        49\n",
      "        name       0.00      0.00      0.00         0\n",
      "  pricerange       0.78      0.56      0.65        25\n",
      "        this       0.71      0.18      0.29        28\n",
      "\n",
      "   micro avg       0.86      0.50      0.63       125\n",
      "   macro avg       0.67      0.39      0.48       125\n",
      "weighted avg       0.86      0.50      0.61       125\n",
      "\n"
     ]
    }
   ],
   "source": [
    "print(classification_report(pred_tags_en, valid_tags_en, digits=2))"
   ]
  },
  {
   "cell_type": "code",
   "execution_count": 136,
   "id": "611c7b52-600c-48de-85a5-f9eb19848907",
   "metadata": {},
   "outputs": [
    {
     "name": "stdout",
     "output_type": "stream",
     "text": [
      "              precision    recall  f1-score   support\n",
      "\n",
      "      B-area       0.88      0.65      0.75        23\n",
      "      B-food       0.97      0.57      0.72        49\n",
      "      B-name       0.00      0.00      0.00         0\n",
      "B-pricerange       0.78      0.56      0.65        25\n",
      "      B-this       1.00      0.32      0.48        22\n",
      "      I-food       0.00      0.00      0.00         1\n",
      "      I-name       0.00      0.00      0.00         0\n",
      "      I-this       0.88      0.39      0.54        18\n",
      "           O       0.86      0.99      0.92       358\n",
      "\n",
      "    accuracy                           0.86       496\n",
      "   macro avg       0.60      0.39      0.45       496\n",
      "weighted avg       0.87      0.86      0.85       496\n",
      "\n"
     ]
    }
   ],
   "source": [
    "from sklearn_crfsuite.metrics import flat_classification_report\n",
    "print(flat_classification_report(pred_tags_en, valid_tags_en))"
   ]
  },
  {
   "cell_type": "code",
   "execution_count": 137,
   "id": "d513fe13-bc2f-4922-a882-13230d4b27ed",
   "metadata": {
    "tags": []
   },
   "outputs": [],
   "source": [
    "pred_tags = MultiLabelBinarizer().fit_transform(pred_tags_en)\n",
    "valid_tags = MultiLabelBinarizer().fit_transform(valid_tags_en)"
   ]
  },
  {
   "cell_type": "code",
   "execution_count": 138,
   "id": "0da8e38a-226e-4c72-b496-c5cf4a37bbf4",
   "metadata": {},
   "outputs": [
    {
     "data": {
      "image/png": "[encoded data removed]",
      "text/plain": [
       "<Figure size 720x720 with 2 Axes>"
      ]
     },
     "metadata": {
      "needs_background": "light"
     },
     "output_type": "display_data"
    }
   ],
   "source": [
    "from sklearn.metrics import confusion_matrix\n",
    "\n",
    "cm = confusion_matrix(valid_tags.argmax(axis=1), pred_tags.argmax(axis=1))\n",
    "fig, ax = plt.subplots(figsize=(10, 10))\n",
    "cax = ax.matshow(cm)\n",
    "plt.title('Confusion matrix of NER')\n",
    "fig.colorbar(cax)\n",
    "ax.set_xticklabels([''] + list(tagset))\n",
    "ax.set_yticklabels([''] + list(tagset))\n",
    "plt.xlabel('Predicted')\n",
    "plt.ylabel('True')\n",
    "plt.show()"
   ]
  },
  {
   "cell_type": "code",
   "execution_count": 139,
   "id": "0a223f3b-5b74-409e-87e8-afc281bea3d2",
   "metadata": {},
   "outputs": [
    {
     "data": {
      "image/png": "[encoded data removed]",
      "text/plain": [
       "<Figure size 432x288 with 2 Axes>"
      ]
     },
     "metadata": {
      "needs_background": "light"
     },
     "output_type": "display_data"
    }
   ],
   "source": [
    "def show_confusion_matrix(confusion_matrix):\n",
    "    hmap = sns.heatmap(confusion_matrix, annot=True, fmt=\"d\", cmap=\"Blues\")\n",
    "    hmap.yaxis.set_ticklabels(hmap.yaxis.get_ticklabels(), rotation=0, ha='right')\n",
    "    hmap.xaxis.set_ticklabels(hmap.xaxis.get_ticklabels(), rotation=30, ha='right')\n",
    "    plt.ylabel('True tag')\n",
    "    plt.xlabel('Predicted tag');\n",
    "\n",
    "cm = confusion_matrix(valid_tags.argmax(axis=1), pred_tags.argmax(axis=1))\n",
    "df_cm = pd.DataFrame(cm)\n",
    "show_confusion_matrix(df_cm)"
   ]
  },
  {
   "cell_type": "code",
   "execution_count": 140,
   "id": "4a700074-78b6-40ab-a4c3-71c4cd25a0fb",
   "metadata": {},
   "outputs": [],
   "source": [
    "#СЧИТАЕМ ДЛЯ НЕМЕЦКОГО"
   ]
  },
  {
   "cell_type": "code",
   "execution_count": 141,
   "id": "5557258b-5858-4501-b11f-49614d2c0e8a",
   "metadata": {},
   "outputs": [
    {
     "name": "stdout",
     "output_type": "stream",
     "text": [
      "äh_O ja_O ich_O suche_O ein_O günstiges_B-pricerange Restaurant_O im_O westlichen_B-area Teil_O der_O Stadt_O Westen_B-area äh_O ja_O ein_O billiges_B-pricerange Restaurant_O äh_O es_O spielt_I-this keine_B-this Rolle_I-this okay_O und_O äh_O was_O ist_O ihre_O Telefonnummer_O bitte_O okay_O und_O ähm_O danke_O und_O auf_O Wiedersehen_O Ich_O suche_O ein_O Restaurant_O im_O westlichen_B-area Teil_O der_O Stadt_O das_O italienische_B-food Küche_O serviert_O Spielt_B-this keine_I-this Rolle_I-this Ist_B-this mir_I-this egal_I-this Wie_O lautet_O die_O Telefonnummer_O Wie_O lautet_O die_O Adresse_O was_O ist_O die_O Preisspanne_O Vielen_O Dank_O auf_O Närt_O Ich_O würde_O gerne_O ein_O preisgünstiges_B-pricerange Restaurant_O im_O nördlichen_\n"
     ]
    }
   ],
   "source": [
    "de_data = format_test_data(open(\"de_data/test.txt\").read(), 80, 'de')\n",
    "print(de_data)"
   ]
  },
  {
   "cell_type": "code",
   "execution_count": 142,
   "id": "7699563c-4e6e-4fc5-997e-24340ea77afd",
   "metadata": {},
   "outputs": [],
   "source": [
    "clean_texts_de = [w for w in data[\"translation\"]]\n",
    "#print(clean_texts_de)"
   ]
  },
  {
   "cell_type": "code",
   "execution_count": 143,
   "id": "0e94d70a-3cf0-4166-b800-95bc040a72cb",
   "metadata": {},
   "outputs": [],
   "source": [
    "valid_tags_de = [eval(s) for s in data[\"BIO_list_trans\"]]\n",
    "#print(valid_tags_en)"
   ]
  },
  {
   "cell_type": "code",
   "execution_count": 144,
   "id": "eae9c98e-a5fd-41a6-a811-9ad82d9336ee",
   "metadata": {},
   "outputs": [],
   "source": [
    "def hypotheses(sent):\n",
    "    pref = de_data+sent\n",
    "    hyps = [pref+tag for tag in tagset]\n",
    "    return hyps, tagset\n",
    "\n",
    "def choose_tag(sentence):\n",
    "    losses = {}\n",
    "    hyps, tagset = hypotheses(sentence)\n",
    "    for tag, hyp in zip(tagset, hyps):\n",
    "        input_ids = tokenizer.encode(hyp, return_tensors='pt').cuda(device)\n",
    "        model_output = model.forward(input_ids, labels=input_ids)\n",
    "        losses[tag] = float(model_output[\"loss\"].cpu().detach().numpy())\n",
    "    return min(losses, key=losses.get)\n",
    "\n",
    "def get_ner(text_to_tag):\n",
    "    text_tokens = text_to_tag.split()\n",
    "    sentence = ''\n",
    "    text_tags = []\n",
    "    result = {}\n",
    "    for token in text_tokens:\n",
    "        sentence += token+'_'\n",
    "        next_tag = choose_tag(sentence)\n",
    "        text_tags.append(next_tag)\n",
    "        sentence += next_tag+ ' '\n",
    "    for word, tag in zip(text_to_tag.split(), text_tags):\n",
    "        result[word] = tag\n",
    "    return text_tags"
   ]
  },
  {
   "cell_type": "code",
   "execution_count": 145,
   "id": "e345fada-4b0a-4922-b02c-47c1f6a8b743",
   "metadata": {},
   "outputs": [
    {
     "name": "stderr",
     "output_type": "stream",
     "text": [
      "100%|████████████████████████████████████████████████████████████████████████| 100/100 [08:17<00:00,  4.97s/it]\n"
     ]
    }
   ],
   "source": [
    "pred_tags_de = []\n",
    "for text in tqdm(clean_texts_de):    \n",
    "    pred_tags_de.append(get_ner(text))"
   ]
  },
  {
   "cell_type": "code",
   "execution_count": 146,
   "id": "0befcc73-4ae3-476c-b316-8144971add5b",
   "metadata": {},
   "outputs": [
    {
     "name": "stdout",
     "output_type": "stream",
     "text": [
      "0.35555555555555557\n"
     ]
    }
   ],
   "source": [
    "print(f1_score(pred_tags_de, valid_tags_de))"
   ]
  },
  {
   "cell_type": "code",
   "execution_count": 147,
   "id": "28095173-1845-4a04-a423-65f87171bc89",
   "metadata": {},
   "outputs": [
    {
     "name": "stdout",
     "output_type": "stream",
     "text": [
      "              precision    recall  f1-score   support\n",
      "\n",
      "        area       0.88      0.20      0.33        74\n",
      "        food       0.65      0.65      0.65        31\n",
      "        name       0.00      0.00      0.00         0\n",
      "  pricerange       0.53      0.53      0.53        19\n",
      "        this       0.33      0.04      0.08        69\n",
      "\n",
      "   micro avg       0.62      0.25      0.36       193\n",
      "   macro avg       0.48      0.28      0.32       193\n",
      "weighted avg       0.61      0.25      0.31       193\n",
      "\n"
     ]
    }
   ],
   "source": [
    "print(classification_report(pred_tags_de, valid_tags_de, digits=2))"
   ]
  },
  {
   "cell_type": "code",
   "execution_count": 148,
   "id": "f1b401b6-7d34-4930-851d-158bf714e5f2",
   "metadata": {},
   "outputs": [
    {
     "name": "stdout",
     "output_type": "stream",
     "text": [
      "              precision    recall  f1-score   support\n",
      "\n",
      "      B-area       0.88      0.20      0.33        74\n",
      "      B-food       0.65      0.65      0.65        31\n",
      "      B-name       0.00      0.00      0.00         0\n",
      "B-pricerange       0.53      0.53      0.53        19\n",
      "      B-this       0.43      0.60      0.50         5\n",
      "      I-name       0.00      0.00      0.00         0\n",
      "      I-this       0.90      0.06      0.11       157\n",
      "           O       0.48      1.00      0.65       184\n",
      "\n",
      "    accuracy                           0.51       470\n",
      "   macro avg       0.48      0.38      0.34       470\n",
      "weighted avg       0.70      0.51      0.41       470\n",
      "\n"
     ]
    }
   ],
   "source": [
    "print(flat_classification_report(pred_tags_de, valid_tags_de))"
   ]
  },
  {
   "cell_type": "code",
   "execution_count": 149,
   "id": "168978cc-7125-419f-9527-564684ca0c34",
   "metadata": {},
   "outputs": [],
   "source": [
    "pred_tags = MultiLabelBinarizer().fit_transform(pred_tags_de)\n",
    "valid_tags = MultiLabelBinarizer().fit_transform(valid_tags_de)"
   ]
  },
  {
   "cell_type": "code",
   "execution_count": 150,
   "id": "7d41a5de-1d69-4802-8021-4f3160653ba4",
   "metadata": {},
   "outputs": [
    {
     "data": {
      "image/png": "[encoded data removed]",
      "text/plain": [
       "<Figure size 720x720 with 2 Axes>"
      ]
     },
     "metadata": {
      "needs_background": "light"
     },
     "output_type": "display_data"
    }
   ],
   "source": [
    "from sklearn.metrics import confusion_matrix\n",
    "\n",
    "cm = confusion_matrix(valid_tags.argmax(axis=1), pred_tags.argmax(axis=1))\n",
    "fig, ax = plt.subplots(figsize=(10, 10))\n",
    "cax = ax.matshow(cm)\n",
    "plt.title('Confusion matrix of NER')\n",
    "fig.colorbar(cax)\n",
    "ax.set_xticklabels([''] + list(tagset))\n",
    "ax.set_yticklabels([''] + list(tagset))\n",
    "plt.xlabel('Predicted')\n",
    "plt.ylabel('True')\n",
    "plt.show()"
   ]
  },
  {
   "cell_type": "code",
   "execution_count": 151,
   "id": "290b0da3-c2bd-4701-bcd3-5dd074cd973f",
   "metadata": {},
   "outputs": [
    {
     "data": {
      "image/png": "[encoded data removed]",
      "text/plain": [
       "<Figure size 432x288 with 2 Axes>"
      ]
     },
     "metadata": {
      "needs_background": "light"
     },
     "output_type": "display_data"
    }
   ],
   "source": [
    "def show_confusion_matrix(confusion_matrix):\n",
    "    hmap = sns.heatmap(confusion_matrix, annot=True, fmt=\"d\", cmap=\"Blues\")\n",
    "    hmap.yaxis.set_ticklabels(hmap.yaxis.get_ticklabels(), rotation=0, ha='right')\n",
    "    hmap.xaxis.set_ticklabels(hmap.xaxis.get_ticklabels(), rotation=30, ha='right')\n",
    "    plt.ylabel('True tag')\n",
    "    plt.xlabel('Predicted tag');\n",
    "\n",
    "cm = confusion_matrix(valid_tags.argmax(axis=1), pred_tags.argmax(axis=1))\n",
    "df_cm = pd.DataFrame(cm)\n",
    "show_confusion_matrix(df_cm)"
   ]
  },
  {
   "cell_type": "code",
   "execution_count": 152,
   "id": "44c3019f-33fe-44c3-aecb-228750ef8360",
   "metadata": {},
   "outputs": [],
   "source": [
    "#СЧИТАЕМ ДЛЯ РУССКОГО"
   ]
  },
  {
   "cell_type": "code",
   "execution_count": 153,
   "id": "6c81c717-33ea-454d-8d6e-ef00ae8b3516",
   "metadata": {},
   "outputs": [
    {
     "data": {
      "text/plain": [
       "'сил_O северная_B-area часть_O города_O где_O подают_O гастропаб_O А_O как_O насчет_O китайского_B-food ресторана_O на_O севере_B-area города_O подают_O ли_O они_O китайскую_B-food еду_O только_O китайская_B-food еда_O в_O северной_B-area части_O города_O Меня_O не_O волнует_O каков_O их_O номер_O телефона_O спасибо_O до_O свидания_O шум_O Я_O ищу_O ресторан_O по_O умеренной_O цене_O и_O он_O должен_O подавать_O полинезийскую_O кухню_B-food в_O умеренной_B-pricerange цене_O да_O как_O насчет_O индийской_B-food кухни_O А_O как_O насчет_O индийского_B-food как_O насчет_O индийского_B-food типа_O пищи_O нет_O индийской_B-food кухни_O смеяться_O индийский_B-food Я_O ищу_O румынскую_B-food еду_O в_O дорогом_B-pricerange ценовом_O диапазоне_O Не_'"
      ]
     },
     "execution_count": 153,
     "metadata": {},
     "output_type": "execute_result"
    }
   ],
   "source": [
    "ru_data = format_test_data(open(\"ru_data/valid.txt\").read(), 80, 'ru')\n",
    "ru_data"
   ]
  },
  {
   "cell_type": "code",
   "execution_count": 154,
   "id": "00697c30-0113-4aa8-b58e-736dbb0fb991",
   "metadata": {},
   "outputs": [],
   "source": [
    "def tokenize(text):\n",
    "    tokens, spans = [], []\n",
    "    for tok_and_span in razdel.tokenize(text):\n",
    "        tokens.append(tok_and_span.text)\n",
    "        spans.append((tok_and_span.start, tok_and_span.stop-1))\n",
    "    return tokens, spans\n",
    "\n",
    "\n",
    "def tokenize_w_spans(text, tokens=None):\n",
    "    tokens,_ = tokenize(text)\n",
    "    spans = [el[0] for el in textspan.get_original_spans(tokens, text)]\n",
    "    return tokens, spans\n",
    "\n",
    "\n",
    "def get_token_ix_by_character_ix(ix, text, tokens):\n",
    "    tokens, spans = tokenize_w_spans(text, tokens)\n",
    "    for token_ix, (token, (span_start, span_end)) in enumerate(zip(tokens, spans)):\n",
    "        if span_start <= ix <= span_end:\n",
    "            return token_ix\n",
    "\n",
    "\n",
    "def translated_ix2orig_ix(translated_ix, proj):\n",
    "    or_span2tr_span4toks = [tuple(tuple(map(int, el.split(':'))) for el in orig2trns.split('-')) \n",
    "                            for orig2trns in proj.split()]\n",
    "    \n",
    "    for ix, (or_tok_span, (tr_start, tr_end)) in enumerate(or_span2tr_span4toks):\n",
    "        if tr_start <= translated_ix <= tr_end:\n",
    "            return ix, or_tok_span\n",
    "\n",
    "\n",
    "def tok_old2tok_new(row):\n",
    "    tokens, spans = tokenize_w_spans(row[\"translation\"])\n",
    "    token_tags = []\n",
    "    for token, (tok_start, tok_end) in zip(tokens, spans):\n",
    "        token_counterpart = translated_ix2orig_ix(tok_start, eval(row[\"translated\"])[\"alignment\"][\"proj\"])\n",
    "        if token_counterpart is None:\n",
    "            token_tag='O'\n",
    "        else:\n",
    "            counterpart_ix, counterpart_span = token_counterpart\n",
    "            c_ix = counterpart_span[0]\n",
    "            if counterpart_span[0]>len(row[\"tokens\"]):\n",
    "                last_c_ix = len(row[\"tokens\"])-1\n",
    "                c_ix=last_c_ix\n",
    "            token_ix = get_token_ix_by_character_ix(c_ix, row[\"tokens\"], eval(row[\"tokens_list\"]))\n",
    "            \n",
    "            token_tag = eval(row[\"BIO\"])[token_ix]\n",
    "            \n",
    "        token_tags.append(token_tag)\n",
    "    \n",
    "    return str(tokens), str(token_tags)"
   ]
  },
  {
   "cell_type": "code",
   "execution_count": 155,
   "id": "e710bc50-d20b-4c6e-949c-630c5f1c5eaf",
   "metadata": {},
   "outputs": [],
   "source": [
    "data_ru = pd.read_csv(\"ner_data_csv/ru_train_translated_new.csv\", encoding=\"utf-8\", nrows=120).fillna(method=\"ffill\")"
   ]
  },
  {
   "cell_type": "code",
   "execution_count": 156,
   "id": "e88516f0-240e-4a3c-9284-d9243eb54638",
   "metadata": {},
   "outputs": [],
   "source": [
    "data_ru[[\"translated_tokens\", \"translated_tags\"]] = data_ru.apply(lambda row: pd.Series(tok_old2tok_new(row)), \n",
    "                                                        axis=1)"
   ]
  },
  {
   "cell_type": "code",
   "execution_count": 157,
   "id": "0296f47b-e740-49e6-a4b4-79fda224e8f2",
   "metadata": {},
   "outputs": [],
   "source": [
    "valid_tags_ru = [eval(s) for s in data_ru[\"translated_tags\"]]"
   ]
  },
  {
   "cell_type": "code",
   "execution_count": 158,
   "id": "963df735-09aa-47c9-a3ae-a3befd279ccc",
   "metadata": {},
   "outputs": [],
   "source": [
    "clean_texts = [w for w in data_ru[\"translation\"]]\n",
    "clean_texts_ru = []\n",
    "for txt in clean_texts:\n",
    "    if ',' in txt:\n",
    "        clean_texts_ru.append(txt.replace(',',''))\n",
    "    else:\n",
    "        clean_texts_ru.append(txt)"
   ]
  },
  {
   "cell_type": "code",
   "execution_count": 159,
   "id": "85f97c65-893f-4c8c-a35e-d7421b6aa0f3",
   "metadata": {},
   "outputs": [
    {
     "name": "stdout",
     "output_type": "stream",
     "text": [
      "aaa\n",
      "aaa\n",
      "aaa\n",
      "aaa\n",
      "aaa\n",
      "aaa\n",
      "aaa\n",
      "aaa\n",
      "aaa\n",
      "aaa\n",
      "aaa\n",
      "aaa\n",
      "aaa\n",
      "aaa\n",
      "aaa\n",
      "aaa\n",
      "aaa\n",
      "aaa\n",
      "aaa\n",
      "aaa\n"
     ]
    }
   ],
   "source": [
    "final_texts_ru=[]\n",
    "final_tags_ru=[]\n",
    "for txt, t in zip(clean_texts_ru, valid_tags_ru):\n",
    "    if len(txt.split())!=len(t):\n",
    "        print('aaa')\n",
    "    else:\n",
    "        final_texts_ru.append(txt)\n",
    "        final_tags_ru.append(t)"
   ]
  },
  {
   "cell_type": "code",
   "execution_count": 160,
   "id": "6e7dcfdc-3d31-4cbc-9fce-5b9cc9fa96bf",
   "metadata": {},
   "outputs": [],
   "source": [
    "def hypotheses(sent):\n",
    "    pref = ru_data+sent\n",
    "    hyps = [pref+tag for tag in tagset]\n",
    "    return hyps, tagset\n",
    "\n",
    "def choose_tag(sentence):\n",
    "    losses = {}\n",
    "    hyps, tagset = hypotheses(sentence)\n",
    "    for tag, hyp in zip(tagset, hyps):\n",
    "        input_ids = tokenizer.encode(hyp, return_tensors='pt').cuda(device)\n",
    "        model_output = model.forward(input_ids, labels=input_ids)\n",
    "        losses[tag] = float(model_output[\"loss\"].cpu().detach().numpy())\n",
    "    return min(losses, key=losses.get)\n",
    "\n",
    "def get_ner(text_to_tag):\n",
    "    text_tokens = text_to_tag.split()\n",
    "    sentence = ''\n",
    "    text_tags = []\n",
    "    result = {}\n",
    "    for token in text_tokens:\n",
    "        sentence += token+'_'\n",
    "        next_tag = choose_tag(sentence)\n",
    "        text_tags.append(next_tag)\n",
    "        sentence += next_tag+ ' '\n",
    "    for word, tag in zip(text_to_tag.split(), text_tags):\n",
    "        result[word] = tag\n",
    "    return text_tags"
   ]
  },
  {
   "cell_type": "code",
   "execution_count": 161,
   "id": "0bdfbcff-8de6-44d1-a3af-5c2f5f7a0a0f",
   "metadata": {},
   "outputs": [
    {
     "name": "stderr",
     "output_type": "stream",
     "text": [
      "100%|████████████████████████████████████████████████████████████████████████| 100/100 [06:08<00:00,  3.69s/it]\n"
     ]
    }
   ],
   "source": [
    "pred_tags_ru = []\n",
    "for text in tqdm(final_texts_ru):    \n",
    "    pred_tags_ru.append(get_ner(text))"
   ]
  },
  {
   "cell_type": "code",
   "execution_count": 162,
   "id": "e4f5b78c-03da-457a-b438-89dda37012c8",
   "metadata": {},
   "outputs": [
    {
     "name": "stdout",
     "output_type": "stream",
     "text": [
      "0.46706586826347307\n"
     ]
    }
   ],
   "source": [
    "print(f1_score(pred_tags_ru, final_tags_ru))"
   ]
  },
  {
   "cell_type": "code",
   "execution_count": 163,
   "id": "b68fcc4a-6fd2-4277-940a-782d4745b8e4",
   "metadata": {},
   "outputs": [
    {
     "name": "stdout",
     "output_type": "stream",
     "text": [
      "              precision    recall  f1-score   support\n",
      "\n",
      "        area       0.16      1.00      0.27         3\n",
      "        food       0.86      0.65      0.74        37\n",
      "  pricerange       1.00      0.19      0.32        64\n",
      "        this       0.00      0.00      0.00         0\n",
      "\n",
      "   micro avg       0.62      0.38      0.47       104\n",
      "   macro avg       0.50      0.46      0.33       104\n",
      "weighted avg       0.92      0.38      0.46       104\n",
      "\n"
     ]
    }
   ],
   "source": [
    "print(classification_report(pred_tags_ru, final_tags_ru, digits=2))"
   ]
  },
  {
   "cell_type": "code",
   "execution_count": 164,
   "id": "978ef0fa-f0a8-472e-9306-2ddaff7f695a",
   "metadata": {},
   "outputs": [
    {
     "name": "stdout",
     "output_type": "stream",
     "text": [
      "              precision    recall  f1-score   support\n",
      "\n",
      "      B-area       0.16      1.00      0.27         3\n",
      "      B-food       0.86      0.65      0.74        37\n",
      "B-pricerange       1.00      0.19      0.32        64\n",
      "      B-this       0.00      0.00      0.00         0\n",
      "      I-this       0.00      0.00      0.00         0\n",
      "           O       0.83      0.98      0.90       226\n",
      "\n",
      "    accuracy                           0.79       330\n",
      "   macro avg       0.47      0.47      0.37       330\n",
      "weighted avg       0.86      0.79      0.76       330\n",
      "\n"
     ]
    }
   ],
   "source": [
    "print(flat_classification_report(pred_tags_ru, final_tags_ru))"
   ]
  },
  {
   "cell_type": "code",
   "execution_count": 165,
   "id": "94dcd87e-734a-4117-88ad-75964b8cf348",
   "metadata": {},
   "outputs": [],
   "source": [
    "pred_tags = MultiLabelBinarizer().fit_transform(pred_tags_ru)\n",
    "valid_tags = MultiLabelBinarizer().fit_transform(final_tags_ru)"
   ]
  },
  {
   "cell_type": "code",
   "execution_count": 166,
   "id": "9df999c3-13e9-4610-b176-6a403c4994b4",
   "metadata": {},
   "outputs": [
    {
     "data": {
      "image/png": "[encoded data removed]",
      "text/plain": [
       "<Figure size 720x720 with 2 Axes>"
      ]
     },
     "metadata": {
      "needs_background": "light"
     },
     "output_type": "display_data"
    }
   ],
   "source": [
    "from sklearn.metrics import confusion_matrix\n",
    "\n",
    "cm = confusion_matrix(valid_tags.argmax(axis=1), pred_tags.argmax(axis=1))\n",
    "fig, ax = plt.subplots(figsize=(10, 10))\n",
    "cax = ax.matshow(cm)\n",
    "plt.title('Confusion matrix of NER')\n",
    "fig.colorbar(cax)\n",
    "ax.set_xticklabels([''] + list(tagset))\n",
    "ax.set_yticklabels([''] + list(tagset))\n",
    "plt.xlabel('Predicted')\n",
    "plt.ylabel('True')\n",
    "plt.show()"
   ]
  },
  {
   "cell_type": "code",
   "execution_count": 167,
   "id": "24f1fe0e-f3d5-493d-a88d-d66685a4fc0c",
   "metadata": {},
   "outputs": [
    {
     "data": {
      "image/png": "[encoded data removed]",
      "text/plain": [
       "<Figure size 432x288 with 2 Axes>"
      ]
     },
     "metadata": {
      "needs_background": "light"
     },
     "output_type": "display_data"
    }
   ],
   "source": [
    "def show_confusion_matrix(confusion_matrix):\n",
    "    hmap = sns.heatmap(confusion_matrix, annot=True, fmt=\"d\", cmap=\"Blues\")\n",
    "    hmap.yaxis.set_ticklabels(hmap.yaxis.get_ticklabels(), rotation=0, ha='right')\n",
    "    hmap.xaxis.set_ticklabels(hmap.xaxis.get_ticklabels(), rotation=30, ha='right')\n",
    "    plt.ylabel('True tag')\n",
    "    plt.xlabel('Predicted tag');\n",
    "\n",
    "cm = confusion_matrix(valid_tags.argmax(axis=1), pred_tags.argmax(axis=1))\n",
    "df_cm = pd.DataFrame(cm)\n",
    "show_confusion_matrix(df_cm)"
   ]
  },
  {
   "cell_type": "code",
   "execution_count": 168,
   "id": "d0b23e4f-5fbb-40c5-ba7d-d7579e69eafd",
   "metadata": {},
   "outputs": [],
   "source": [
    "#EN-DE"
   ]
  },
  {
   "cell_type": "code",
   "execution_count": 169,
   "id": "929392d9-2086-4a7b-857c-2c4583a9bb67",
   "metadata": {},
   "outputs": [],
   "source": [
    "def hypotheses(sent):\n",
    "    pref = en_data+sent\n",
    "    hyps = [pref+tag for tag in tagset]\n",
    "    return hyps, tagset\n",
    "\n",
    "def choose_tag(sentence):\n",
    "    losses = {}\n",
    "    hyps, tagset = hypotheses(sentence)\n",
    "    for tag, hyp in zip(tagset, hyps):\n",
    "        input_ids = tokenizer.encode(hyp, return_tensors='pt').cuda(device)\n",
    "        model_output = model.forward(input_ids, labels=input_ids)\n",
    "        losses[tag] = float(model_output[\"loss\"].cpu().detach().numpy())\n",
    "    return min(losses, key=losses.get)\n",
    "\n",
    "def get_ner(text_to_tag):\n",
    "    text_tokens = text_to_tag.split()\n",
    "    sentence = ''\n",
    "    text_tags = []\n",
    "    result = {}\n",
    "    for token in text_tokens:\n",
    "        sentence += token+'_'\n",
    "        next_tag = choose_tag(sentence)\n",
    "        text_tags.append(next_tag)\n",
    "        sentence += next_tag+ ' '\n",
    "    for word, tag in zip(text_to_tag.split(), text_tags):\n",
    "        result[word] = tag\n",
    "    return text_tags"
   ]
  },
  {
   "cell_type": "code",
   "execution_count": 170,
   "id": "5729eb79-67bd-43e1-a4ec-4427fda609d4",
   "metadata": {},
   "outputs": [
    {
     "name": "stderr",
     "output_type": "stream",
     "text": [
      "100%|████████████████████████████████████████████████████████████████████████| 100/100 [07:16<00:00,  4.36s/it]"
     ]
    },
    {
     "name": "stdout",
     "output_type": "stream",
     "text": [
      "0.5196078431372548\n"
     ]
    },
    {
     "name": "stderr",
     "output_type": "stream",
     "text": [
      "\n"
     ]
    }
   ],
   "source": [
    "pred_tags_en_de = []\n",
    "for text in tqdm(clean_texts_de):    \n",
    "    pred_tags_en_de.append(get_ner(text))\n",
    "print(f1_score(pred_tags_en_de, valid_tags_de))"
   ]
  },
  {
   "cell_type": "code",
   "execution_count": 171,
   "id": "f82c47a9-f97d-4aed-9327-0faf62384618",
   "metadata": {},
   "outputs": [
    {
     "name": "stdout",
     "output_type": "stream",
     "text": [
      "              precision    recall  f1-score   support\n",
      "\n",
      "        area       0.59      0.38      0.47        26\n",
      "        food       0.84      0.54      0.66        48\n",
      "        name       0.00      0.00      0.00         0\n",
      "  pricerange       0.68      0.50      0.58        26\n",
      "        this       0.44      0.15      0.22        27\n",
      "\n",
      "   micro avg       0.69      0.42      0.52       127\n",
      "   macro avg       0.51      0.31      0.38       127\n",
      "weighted avg       0.67      0.42      0.51       127\n",
      "\n"
     ]
    }
   ],
   "source": [
    "print(classification_report(pred_tags_en_de, valid_tags_de, digits=2))"
   ]
  },
  {
   "cell_type": "code",
   "execution_count": 172,
   "id": "a1241ad7-9733-4608-94e2-adcc3223fae7",
   "metadata": {},
   "outputs": [
    {
     "name": "stdout",
     "output_type": "stream",
     "text": [
      "              precision    recall  f1-score   support\n",
      "\n",
      "      B-area       0.59      0.38      0.47        26\n",
      "      B-food       0.84      0.54      0.66        48\n",
      "      B-name       0.00      0.00      0.00         0\n",
      "B-pricerange       0.68      0.50      0.58        26\n",
      "      B-this       0.29      0.13      0.18        15\n",
      "      I-food       0.00      0.00      0.00        14\n",
      "      I-name       0.00      0.00      0.00         0\n",
      "      I-this       0.90      0.20      0.33        44\n",
      "           O       0.74      0.95      0.83       297\n",
      "\n",
      "    accuracy                           0.73       470\n",
      "   macro avg       0.45      0.30      0.34       470\n",
      "weighted avg       0.71      0.73      0.69       470\n",
      "\n"
     ]
    }
   ],
   "source": [
    "print(flat_classification_report(pred_tags_en_de, valid_tags_de))"
   ]
  },
  {
   "cell_type": "code",
   "execution_count": 173,
   "id": "56f8ae55-3519-4ad3-88c7-35a394df17f1",
   "metadata": {},
   "outputs": [
    {
     "data": {
      "image/png": "[encoded data removed]",
      "text/plain": [
       "<Figure size 432x288 with 2 Axes>"
      ]
     },
     "metadata": {
      "needs_background": "light"
     },
     "output_type": "display_data"
    }
   ],
   "source": [
    "pred_tags = MultiLabelBinarizer().fit_transform(pred_tags_en_de)\n",
    "valid_tags = MultiLabelBinarizer().fit_transform(valid_tags_de)\n",
    "def show_confusion_matrix(confusion_matrix):\n",
    "    hmap = sns.heatmap(confusion_matrix, annot=True, fmt=\"d\", cmap=\"Blues\")\n",
    "    hmap.yaxis.set_ticklabels(hmap.yaxis.get_ticklabels(), rotation=0, ha='right')\n",
    "    hmap.xaxis.set_ticklabels(hmap.xaxis.get_ticklabels(), rotation=30, ha='right')\n",
    "    plt.ylabel('True sentiment')\n",
    "    plt.xlabel('Predicted sentiment');\n",
    "\n",
    "cm = confusion_matrix(valid_tags.argmax(axis=1), pred_tags.argmax(axis=1))\n",
    "df_cm = pd.DataFrame(cm)\n",
    "show_confusion_matrix(df_cm)"
   ]
  },
  {
   "cell_type": "code",
   "execution_count": 174,
   "id": "d1217016-ab93-478f-84b0-8683b458ce3e",
   "metadata": {},
   "outputs": [],
   "source": [
    "#EN-RU"
   ]
  },
  {
   "cell_type": "code",
   "execution_count": 175,
   "id": "64157a1f-8aec-43ad-a5e6-eee5b36508b8",
   "metadata": {},
   "outputs": [],
   "source": [
    "def hypotheses(sent):\n",
    "    pref = en_data+sent\n",
    "    hyps = [pref+tag for tag in tagset]\n",
    "    return hyps, tagset\n",
    "\n",
    "def choose_tag(sentence):\n",
    "    losses = {}\n",
    "    hyps, tagset = hypotheses(sentence)\n",
    "    for tag, hyp in zip(tagset, hyps):\n",
    "        input_ids = tokenizer.encode(hyp, return_tensors='pt').cuda(device)\n",
    "        model_output = model.forward(input_ids, labels=input_ids)\n",
    "        losses[tag] = float(model_output[\"loss\"].cpu().detach().numpy())\n",
    "    return min(losses, key=losses.get)\n",
    "\n",
    "def get_ner(text_to_tag):\n",
    "    text_tokens = text_to_tag.split()\n",
    "    sentence = ''\n",
    "    text_tags = []\n",
    "    result = {}\n",
    "    for token in text_tokens:\n",
    "        sentence += token+'_'\n",
    "        next_tag = choose_tag(sentence)\n",
    "        text_tags.append(next_tag)\n",
    "        sentence += next_tag+ ' '\n",
    "    for word, tag in zip(text_to_tag.split(), text_tags):\n",
    "        result[word] = tag\n",
    "    return text_tags"
   ]
  },
  {
   "cell_type": "code",
   "execution_count": 176,
   "id": "13b6187e-0719-4a38-83c5-1026daf238c3",
   "metadata": {},
   "outputs": [
    {
     "name": "stderr",
     "output_type": "stream",
     "text": [
      "100%|████████████████████████████████████████████████████████████████████████| 100/100 [05:06<00:00,  3.06s/it]"
     ]
    },
    {
     "name": "stdout",
     "output_type": "stream",
     "text": [
      "0.3087719298245614\n"
     ]
    },
    {
     "name": "stderr",
     "output_type": "stream",
     "text": [
      "\n"
     ]
    }
   ],
   "source": [
    "pred_tags_en_ru = []\n",
    "for text in tqdm(final_texts_ru):    \n",
    "    pred_tags_en_ru.append(get_ner(text))\n",
    "print(f1_score(pred_tags_en_ru, final_tags_ru))"
   ]
  },
  {
   "cell_type": "code",
   "execution_count": 177,
   "id": "902e5dd2-5cff-4023-a53d-dc16ffe1a581",
   "metadata": {},
   "outputs": [
    {
     "name": "stdout",
     "output_type": "stream",
     "text": [
      "              precision    recall  f1-score   support\n",
      "\n",
      "        area       0.47      0.75      0.58        12\n",
      "        food       0.89      0.26      0.40        98\n",
      "  pricerange       0.67      0.16      0.25        51\n",
      "        this       0.50      0.03      0.06        61\n",
      "\n",
      "   micro avg       0.70      0.20      0.31       222\n",
      "   macro avg       0.63      0.30      0.32       222\n",
      "weighted avg       0.71      0.20      0.28       222\n",
      "\n"
     ]
    }
   ],
   "source": [
    "print(classification_report(pred_tags_en_ru, final_tags_ru, digits=2))"
   ]
  },
  {
   "cell_type": "code",
   "execution_count": 178,
   "id": "8f0c7836-064b-4445-8df1-66e411bbd8f0",
   "metadata": {},
   "outputs": [
    {
     "name": "stdout",
     "output_type": "stream",
     "text": [
      "              precision    recall  f1-score   support\n",
      "\n",
      "      B-area       0.47      0.75      0.58        12\n",
      "      B-food       0.89      0.26      0.40        98\n",
      "B-pricerange       0.67      0.16      0.25        51\n",
      "      B-this       0.50      0.03      0.06        58\n",
      "      I-this       1.00      0.08      0.14        26\n",
      "           O       0.32      0.99      0.48        85\n",
      "\n",
      "    accuracy                           0.39       330\n",
      "   macro avg       0.64      0.38      0.32       330\n",
      "weighted avg       0.63      0.39      0.32       330\n",
      "\n"
     ]
    }
   ],
   "source": [
    "print(flat_classification_report(pred_tags_en_ru, final_tags_ru))"
   ]
  },
  {
   "cell_type": "code",
   "execution_count": 179,
   "id": "83b4770b-2b46-449f-b70d-59d26e8cd533",
   "metadata": {},
   "outputs": [],
   "source": [
    "pred_tags = MultiLabelBinarizer().fit_transform(pred_tags_en_ru)\n",
    "valid_tags = MultiLabelBinarizer().fit_transform(final_tags_ru)"
   ]
  },
  {
   "cell_type": "code",
   "execution_count": 180,
   "id": "68fdb403-e5e0-4836-a95a-2907c7c11a23",
   "metadata": {},
   "outputs": [
    {
     "data": {
      "image/png": "[encoded data removed]",
      "text/plain": [
       "<Figure size 720x720 with 2 Axes>"
      ]
     },
     "metadata": {
      "needs_background": "light"
     },
     "output_type": "display_data"
    }
   ],
   "source": [
    "cm = confusion_matrix(valid_tags.argmax(axis=1), pred_tags.argmax(axis=1))\n",
    "fig, ax = plt.subplots(figsize=(10, 10))\n",
    "cax = ax.matshow(cm)\n",
    "plt.title('Confusion matrix of NER')\n",
    "fig.colorbar(cax)\n",
    "ax.set_xticklabels([''] + list(tagset))\n",
    "ax.set_yticklabels([''] + list(tagset))\n",
    "plt.xlabel('Predicted')\n",
    "plt.ylabel('True')\n",
    "plt.show()"
   ]
  },
  {
   "cell_type": "code",
   "execution_count": 181,
   "id": "6680ff65-16ea-4ac8-816c-c9ff8245ba71",
   "metadata": {},
   "outputs": [
    {
     "data": {
      "image/png": "[encoded data removed]",
      "text/plain": [
       "<Figure size 432x288 with 2 Axes>"
      ]
     },
     "metadata": {
      "needs_background": "light"
     },
     "output_type": "display_data"
    }
   ],
   "source": [
    "def show_confusion_matrix(confusion_matrix):\n",
    "    hmap = sns.heatmap(confusion_matrix, annot=True, fmt=\"d\", cmap=\"Blues\")\n",
    "    hmap.yaxis.set_ticklabels(hmap.yaxis.get_ticklabels(), rotation=0, ha='right')\n",
    "    hmap.xaxis.set_ticklabels(hmap.xaxis.get_ticklabels(), rotation=30, ha='right')\n",
    "    plt.ylabel('True tag')\n",
    "    plt.xlabel('Predicted tag');\n",
    "\n",
    "cm = confusion_matrix(valid_tags.argmax(axis=1), pred_tags.argmax(axis=1))\n",
    "df_cm = pd.DataFrame(cm)\n",
    "show_confusion_matrix(df_cm)"
   ]
  },
  {
   "cell_type": "code",
   "execution_count": 182,
   "id": "5ab7fdfd-5469-4de1-a39f-665fb13ff0f8",
   "metadata": {},
   "outputs": [],
   "source": [
    "#DE-RU"
   ]
  },
  {
   "cell_type": "code",
   "execution_count": 183,
   "id": "d8479f9e-6f6e-4c12-9077-ef30a2d92129",
   "metadata": {},
   "outputs": [],
   "source": [
    "def hypotheses(sent):\n",
    "    pref = de_data+sent\n",
    "    hyps = [pref+tag for tag in tagset]\n",
    "    return hyps, tagset\n",
    "\n",
    "def choose_tag(sentence):\n",
    "    losses = {}\n",
    "    hyps, tagset = hypotheses(sentence)\n",
    "    for tag, hyp in zip(tagset, hyps):\n",
    "        input_ids = tokenizer.encode(hyp, return_tensors='pt').cuda(device)\n",
    "        model_output = model.forward(input_ids, labels=input_ids)\n",
    "        losses[tag] = float(model_output[\"loss\"].cpu().detach().numpy())\n",
    "    return min(losses, key=losses.get)\n",
    "\n",
    "def get_ner(text_to_tag):\n",
    "    text_tokens = text_to_tag.split()\n",
    "    sentence = ''\n",
    "    text_tags = []\n",
    "    result = {}\n",
    "    for token in text_tokens:\n",
    "        sentence += token+'_'\n",
    "        next_tag = choose_tag(sentence)\n",
    "        text_tags.append(next_tag)\n",
    "        sentence += next_tag+ ' '\n",
    "    for word, tag in zip(text_to_tag.split(), text_tags):\n",
    "        result[word] = tag\n",
    "    return text_tags"
   ]
  },
  {
   "cell_type": "code",
   "execution_count": 184,
   "id": "e830b5fa-0c9d-4223-97ec-04fa59564a2c",
   "metadata": {},
   "outputs": [
    {
     "name": "stderr",
     "output_type": "stream",
     "text": [
      "100%|████████████████████████████████████████████████████████████████████████| 100/100 [05:48<00:00,  3.49s/it]"
     ]
    },
    {
     "name": "stdout",
     "output_type": "stream",
     "text": [
      "0.20231213872832374\n"
     ]
    },
    {
     "name": "stderr",
     "output_type": "stream",
     "text": [
      "\n"
     ]
    }
   ],
   "source": [
    "pred_tags_de_ru = []\n",
    "for text in tqdm(final_texts_ru):    \n",
    "    pred_tags_de_ru.append(get_ner(text))\n",
    "print(f1_score(pred_tags_de_ru, final_tags_ru))"
   ]
  },
  {
   "cell_type": "code",
   "execution_count": 185,
   "id": "f99b56d7-3407-46d1-a92c-dab13bc2aaef",
   "metadata": {},
   "outputs": [
    {
     "name": "stdout",
     "output_type": "stream",
     "text": [
      "              precision    recall  f1-score   support\n",
      "\n",
      "        area       0.79      0.12      0.20       129\n",
      "        food       0.57      0.44      0.50        36\n",
      "  pricerange       0.33      0.04      0.08        89\n",
      "        this       0.00      0.00      0.00        29\n",
      "\n",
      "   micro avg       0.56      0.12      0.20       283\n",
      "   macro avg       0.42      0.15      0.20       283\n",
      "weighted avg       0.54      0.12      0.18       283\n",
      "\n"
     ]
    }
   ],
   "source": [
    "print(classification_report(pred_tags_de_ru, final_tags_ru, digits=2))"
   ]
  },
  {
   "cell_type": "code",
   "execution_count": 186,
   "id": "51aaecba-4a5a-4911-a2c9-921c554e678b",
   "metadata": {},
   "outputs": [
    {
     "name": "stdout",
     "output_type": "stream",
     "text": [
      "              precision    recall  f1-score   support\n",
      "\n",
      "      B-area       0.79      0.12      0.20       129\n",
      "      B-food       0.57      0.44      0.50        36\n",
      "B-pricerange       0.33      0.04      0.08        89\n",
      "      B-this       0.00      0.00      0.00         0\n",
      "      I-this       1.00      0.03      0.06        66\n",
      "           O       0.04      1.00      0.07        10\n",
      "\n",
      "    accuracy                           0.14       330\n",
      "   macro avg       0.46      0.27      0.15       330\n",
      "weighted avg       0.66      0.14      0.17       330\n",
      "\n"
     ]
    }
   ],
   "source": [
    "print(flat_classification_report(pred_tags_de_ru, final_tags_ru))"
   ]
  },
  {
   "cell_type": "code",
   "execution_count": 187,
   "id": "f9f59287-7610-4171-8937-5437f160481b",
   "metadata": {},
   "outputs": [
    {
     "data": {
      "image/png": "[encoded data removed]",
      "text/plain": [
       "<Figure size 720x720 with 2 Axes>"
      ]
     },
     "metadata": {
      "needs_background": "light"
     },
     "output_type": "display_data"
    }
   ],
   "source": [
    "pred_tags = MultiLabelBinarizer().fit_transform(pred_tags_de_ru)\n",
    "valid_tags = MultiLabelBinarizer().fit_transform(final_tags_ru)\n",
    "cm = confusion_matrix(valid_tags.argmax(axis=1), pred_tags.argmax(axis=1))\n",
    "fig, ax = plt.subplots(figsize=(10, 10))\n",
    "cax = ax.matshow(cm)\n",
    "plt.title('Confusion matrix of NER')\n",
    "fig.colorbar(cax)\n",
    "ax.set_xticklabels([''] + list(tagset))\n",
    "ax.set_yticklabels([''] + list(tagset))\n",
    "plt.xlabel('Predicted')\n",
    "plt.ylabel('True')\n",
    "plt.show()"
   ]
  },
  {
   "cell_type": "code",
   "execution_count": 188,
   "id": "21ac9055-c6e4-4189-be50-f56ce3a81f84",
   "metadata": {},
   "outputs": [
    {
     "data": {
      "image/png": "[encoded data removed]",
      "text/plain": [
       "<Figure size 432x288 with 2 Axes>"
      ]
     },
     "metadata": {
      "needs_background": "light"
     },
     "output_type": "display_data"
    }
   ],
   "source": [
    "def show_confusion_matrix(confusion_matrix):\n",
    "    hmap = sns.heatmap(confusion_matrix, annot=True, fmt=\"d\", cmap=\"Blues\")\n",
    "    hmap.yaxis.set_ticklabels(hmap.yaxis.get_ticklabels(), rotation=0, ha='right')\n",
    "    hmap.xaxis.set_ticklabels(hmap.xaxis.get_ticklabels(), rotation=30, ha='right')\n",
    "    plt.ylabel('True tag')\n",
    "    plt.xlabel('Predicted tag');\n",
    "\n",
    "cm = confusion_matrix(valid_tags.argmax(axis=1), pred_tags.argmax(axis=1))\n",
    "df_cm = pd.DataFrame(cm)\n",
    "show_confusion_matrix(df_cm)"
   ]
  },
  {
   "cell_type": "code",
   "execution_count": 189,
   "id": "de6c0740-b762-4453-bf34-102445d2e219",
   "metadata": {},
   "outputs": [],
   "source": [
    "#RU-EN"
   ]
  },
  {
   "cell_type": "code",
   "execution_count": 190,
   "id": "2bfa6a97-a283-45f4-ab8c-964e627802f4",
   "metadata": {},
   "outputs": [],
   "source": [
    "def hypotheses(sent):\n",
    "    pref = ru_data+sent\n",
    "    hyps = [pref+tag for tag in tagset]\n",
    "    return hyps, tagset\n",
    "\n",
    "def choose_tag(sentence):\n",
    "    losses = {}\n",
    "    hyps, tagset = hypotheses(sentence)\n",
    "    for tag, hyp in zip(tagset, hyps):\n",
    "        input_ids = tokenizer.encode(hyp, return_tensors='pt').cuda(device)\n",
    "        model_output = model.forward(input_ids, labels=input_ids)\n",
    "        losses[tag] = float(model_output[\"loss\"].cpu().detach().numpy())\n",
    "    return min(losses, key=losses.get)\n",
    "\n",
    "def get_ner(text_to_tag):\n",
    "    text_tokens = text_to_tag.split()\n",
    "    sentence = ''\n",
    "    text_tags = []\n",
    "    result = {}\n",
    "    for token in text_tokens:\n",
    "        sentence += token+'_'\n",
    "        next_tag = choose_tag(sentence)\n",
    "        text_tags.append(next_tag)\n",
    "        sentence += next_tag+ ' '\n",
    "    for word, tag in zip(text_to_tag.split(), text_tags):\n",
    "        result[word] = tag\n",
    "    return text_tags"
   ]
  },
  {
   "cell_type": "code",
   "execution_count": 191,
   "id": "843bf781-31b3-403e-bdf9-bee58b1eb06c",
   "metadata": {},
   "outputs": [
    {
     "name": "stderr",
     "output_type": "stream",
     "text": [
      "100%|████████████████████████████████████████████████████████████████████████| 100/100 [09:37<00:00,  5.78s/it]"
     ]
    },
    {
     "name": "stdout",
     "output_type": "stream",
     "text": [
      "0.14829659318637275\n"
     ]
    },
    {
     "name": "stderr",
     "output_type": "stream",
     "text": [
      "\n"
     ]
    }
   ],
   "source": [
    "pred_tags_ru_en = []\n",
    "for text in tqdm(clean_texts_en):    \n",
    "    pred_tags_ru_en.append(get_ner(text))\n",
    "print(f1_score(pred_tags_ru_en, valid_tags_en))"
   ]
  },
  {
   "cell_type": "code",
   "execution_count": 192,
   "id": "e6b3e0c0-3f19-44d7-88e5-05159de7007e",
   "metadata": {},
   "outputs": [
    {
     "name": "stdout",
     "output_type": "stream",
     "text": [
      "              precision    recall  f1-score   support\n",
      "\n",
      "        area       0.12      0.67      0.20         3\n",
      "        food       0.79      0.09      0.17       247\n",
      "        name       0.00      0.00      0.00         0\n",
      "  pricerange       0.67      0.07      0.12       177\n",
      "        this       0.00      0.00      0.00         0\n",
      "\n",
      "   micro avg       0.51      0.09      0.15       427\n",
      "   macro avg       0.32      0.17      0.10       427\n",
      "weighted avg       0.74      0.09      0.15       427\n",
      "\n"
     ]
    }
   ],
   "source": [
    "print(classification_report(pred_tags_ru_en, valid_tags_en, digits=2))"
   ]
  },
  {
   "cell_type": "code",
   "execution_count": 193,
   "id": "b6953ea7-e994-4bb9-9896-d1cde8b3d314",
   "metadata": {},
   "outputs": [
    {
     "name": "stdout",
     "output_type": "stream",
     "text": [
      "              precision    recall  f1-score   support\n",
      "\n",
      "      B-area       0.12      0.67      0.20         3\n",
      "      B-food       0.79      0.09      0.17       247\n",
      "      B-name       0.00      0.00      0.00         0\n",
      "B-pricerange       0.67      0.07      0.12       177\n",
      "      B-this       0.00      0.00      0.00         0\n",
      "      I-name       0.00      0.00      0.00         0\n",
      "      I-this       0.00      0.00      0.00         0\n",
      "           O       0.14      0.87      0.25        69\n",
      "\n",
      "    accuracy                           0.20       496\n",
      "   macro avg       0.22      0.21      0.09       496\n",
      "weighted avg       0.65      0.20      0.16       496\n",
      "\n"
     ]
    }
   ],
   "source": [
    "print(flat_classification_report(pred_tags_ru_en, valid_tags_en))"
   ]
  },
  {
   "cell_type": "code",
   "execution_count": 194,
   "id": "ced557f3-896c-4f48-af6b-4aa0f12b6338",
   "metadata": {},
   "outputs": [
    {
     "data": {
      "image/png": "[encoded data removed]",
      "text/plain": [
       "<Figure size 720x720 with 2 Axes>"
      ]
     },
     "metadata": {
      "needs_background": "light"
     },
     "output_type": "display_data"
    }
   ],
   "source": [
    "pred_tags = MultiLabelBinarizer().fit_transform(pred_tags_ru_en)\n",
    "valid_tags = MultiLabelBinarizer().fit_transform(valid_tags_en)\n",
    "cm = confusion_matrix(valid_tags.argmax(axis=1), pred_tags.argmax(axis=1))\n",
    "fig, ax = plt.subplots(figsize=(10, 10))\n",
    "cax = ax.matshow(cm)\n",
    "plt.title('Confusion matrix of NER')\n",
    "fig.colorbar(cax)\n",
    "ax.set_xticklabels([''] + list(tagset))\n",
    "ax.set_yticklabels([''] + list(tagset))\n",
    "plt.xlabel('Predicted')\n",
    "plt.ylabel('True')\n",
    "plt.show()"
   ]
  },
  {
   "cell_type": "code",
   "execution_count": 195,
   "id": "a3856e1d-6965-497a-be00-a9c3cbde7cb0",
   "metadata": {},
   "outputs": [
    {
     "data": {
      "image/png": "[encoded data removed]",
      "text/plain": [
       "<Figure size 432x288 with 2 Axes>"
      ]
     },
     "metadata": {
      "needs_background": "light"
     },
     "output_type": "display_data"
    }
   ],
   "source": [
    "def show_confusion_matrix(confusion_matrix):\n",
    "    hmap = sns.heatmap(confusion_matrix, annot=True, fmt=\"d\", cmap=\"Blues\")\n",
    "    hmap.yaxis.set_ticklabels(hmap.yaxis.get_ticklabels(), rotation=0, ha='right')\n",
    "    hmap.xaxis.set_ticklabels(hmap.xaxis.get_ticklabels(), rotation=30, ha='right')\n",
    "    plt.ylabel('True tag')\n",
    "    plt.xlabel('Predicted tag');\n",
    "\n",
    "cm = confusion_matrix(valid_tags.argmax(axis=1), pred_tags.argmax(axis=1))\n",
    "df_cm = pd.DataFrame(cm)\n",
    "show_confusion_matrix(df_cm)"
   ]
  },
  {
   "cell_type": "code",
   "execution_count": 196,
   "id": "96deefc6-ab53-4596-bcf9-eaf0250387b3",
   "metadata": {},
   "outputs": [],
   "source": [
    "#DE-EN"
   ]
  },
  {
   "cell_type": "code",
   "execution_count": 197,
   "id": "4411e8a1-cbc7-4568-a016-f98db37a2adf",
   "metadata": {},
   "outputs": [],
   "source": [
    "def hypotheses(sent):\n",
    "    pref = de_data+sent\n",
    "    hyps = [pref+tag for tag in tagset]\n",
    "    return hyps, tagset\n",
    "\n",
    "def choose_tag(sentence):\n",
    "    losses = {}\n",
    "    hyps, tagset = hypotheses(sentence)\n",
    "    for tag, hyp in zip(tagset, hyps):\n",
    "        input_ids = tokenizer.encode(hyp, return_tensors='pt').cuda(device)\n",
    "        model_output = model.forward(input_ids, labels=input_ids)\n",
    "        losses[tag] = float(model_output[\"loss\"].cpu().detach().numpy())\n",
    "    return min(losses, key=losses.get)\n",
    "\n",
    "def get_ner(text_to_tag):\n",
    "    text_tokens = text_to_tag.split()\n",
    "    sentence = ''\n",
    "    text_tags = []\n",
    "    result = {}\n",
    "    for token in text_tokens:\n",
    "        sentence += token+'_'\n",
    "        next_tag = choose_tag(sentence)\n",
    "        text_tags.append(next_tag)\n",
    "        sentence += next_tag+ ' '\n",
    "    for word, tag in zip(text_to_tag.split(), text_tags):\n",
    "        result[word] = tag\n",
    "    return text_tags"
   ]
  },
  {
   "cell_type": "code",
   "execution_count": 198,
   "id": "e0c23fe9-eb4e-4a36-9aa6-0f10125f5728",
   "metadata": {},
   "outputs": [
    {
     "name": "stderr",
     "output_type": "stream",
     "text": [
      "100%|████████████████████████████████████████████████████████████████████████| 100/100 [08:42<00:00,  5.22s/it]"
     ]
    },
    {
     "name": "stdout",
     "output_type": "stream",
     "text": [
      "0.18344519015659957\n"
     ]
    },
    {
     "name": "stderr",
     "output_type": "stream",
     "text": [
      "\n"
     ]
    }
   ],
   "source": [
    "pred_tags_de_en = []\n",
    "for text in tqdm(clean_texts_en):    \n",
    "    pred_tags_de_en.append(get_ner(text))\n",
    "print(f1_score(pred_tags_de_en, valid_tags_en))"
   ]
  },
  {
   "cell_type": "code",
   "execution_count": 199,
   "id": "0e5cd3a8-1419-4b49-b199-21a02f1a57c5",
   "metadata": {},
   "outputs": [
    {
     "name": "stdout",
     "output_type": "stream",
     "text": [
      "              precision    recall  f1-score   support\n",
      "\n",
      "        area       0.71      0.06      0.11       208\n",
      "        food       0.59      0.37      0.45        46\n",
      "        name       0.00      0.00      0.00         0\n",
      "  pricerange       0.56      0.13      0.22        75\n",
      "        this       0.29      0.04      0.08        46\n",
      "\n",
      "   micro avg       0.57      0.11      0.18       375\n",
      "   macro avg       0.43      0.12      0.17       375\n",
      "weighted avg       0.61      0.11      0.17       375\n",
      "\n"
     ]
    }
   ],
   "source": [
    "print(classification_report(pred_tags_de_en, valid_tags_en, digits=2))"
   ]
  },
  {
   "cell_type": "code",
   "execution_count": 200,
   "id": "1892869e-ac3e-46d0-831a-5464fc0ebd25",
   "metadata": {},
   "outputs": [
    {
     "name": "stdout",
     "output_type": "stream",
     "text": [
      "              precision    recall  f1-score   support\n",
      "\n",
      "      B-area       0.71      0.06      0.11       208\n",
      "      B-food       0.59      0.37      0.45        46\n",
      "      B-name       0.00      0.00      0.00         0\n",
      "B-pricerange       0.56      0.13      0.22        75\n",
      "      B-this       0.00      0.00      0.00         0\n",
      "      I-name       0.00      0.00      0.00         0\n",
      "      I-this       0.50      0.03      0.05       153\n",
      "           O       0.03      0.93      0.06        14\n",
      "\n",
      "    accuracy                           0.11       496\n",
      "   macro avg       0.30      0.19      0.11       496\n",
      "weighted avg       0.59      0.11      0.14       496\n",
      "\n"
     ]
    }
   ],
   "source": [
    "print(flat_classification_report(pred_tags_de_en, valid_tags_en))"
   ]
  },
  {
   "cell_type": "code",
   "execution_count": 201,
   "id": "27d80ebc-53d3-4b84-b1aa-7a48dd860411",
   "metadata": {},
   "outputs": [
    {
     "data": {
      "image/png": "[encoded data removed]",
      "text/plain": [
       "<Figure size 720x720 with 2 Axes>"
      ]
     },
     "metadata": {
      "needs_background": "light"
     },
     "output_type": "display_data"
    }
   ],
   "source": [
    "pred_tags = MultiLabelBinarizer().fit_transform(pred_tags_de_en)\n",
    "valid_tags = MultiLabelBinarizer().fit_transform(valid_tags_en)\n",
    "cm = confusion_matrix(valid_tags.argmax(axis=1), pred_tags.argmax(axis=1))\n",
    "fig, ax = plt.subplots(figsize=(10, 10))\n",
    "cax = ax.matshow(cm)\n",
    "plt.title('Confusion matrix of NER')\n",
    "fig.colorbar(cax)\n",
    "ax.set_xticklabels([''] + list(tagset))\n",
    "ax.set_yticklabels([''] + list(tagset))\n",
    "plt.xlabel('Predicted')\n",
    "plt.ylabel('True')\n",
    "plt.show()"
   ]
  },
  {
   "cell_type": "code",
   "execution_count": 202,
   "id": "07790077-b481-4010-a458-e934d20f96c2",
   "metadata": {},
   "outputs": [
    {
     "data": {
      "image/png": "[encoded data removed]",
      "text/plain": [
       "<Figure size 432x288 with 2 Axes>"
      ]
     },
     "metadata": {
      "needs_background": "light"
     },
     "output_type": "display_data"
    }
   ],
   "source": [
    "def show_confusion_matrix(confusion_matrix):\n",
    "    hmap = sns.heatmap(confusion_matrix, annot=True, fmt=\"d\", cmap=\"Blues\")\n",
    "    hmap.yaxis.set_ticklabels(hmap.yaxis.get_ticklabels(), rotation=0, ha='right')\n",
    "    hmap.xaxis.set_ticklabels(hmap.xaxis.get_ticklabels(), rotation=30, ha='right')\n",
    "    plt.ylabel('True tag')\n",
    "    plt.xlabel('Predicted tag');\n",
    "\n",
    "cm = confusion_matrix(valid_tags.argmax(axis=1), pred_tags.argmax(axis=1))\n",
    "df_cm = pd.DataFrame(cm)\n",
    "show_confusion_matrix(df_cm)"
   ]
  },
  {
   "cell_type": "code",
   "execution_count": 203,
   "id": "afe60339-8ee7-4f6f-b0f2-fda0da292107",
   "metadata": {},
   "outputs": [],
   "source": [
    "#RU-DE"
   ]
  },
  {
   "cell_type": "code",
   "execution_count": 204,
   "id": "4bcd1aed-9775-49ab-9ba5-59bdaa702cf9",
   "metadata": {},
   "outputs": [],
   "source": [
    "def hypotheses(sent):\n",
    "    pref = ru_data+sent\n",
    "    hyps = [pref+tag for tag in tagset]\n",
    "    return hyps, tagset\n",
    "\n",
    "def choose_tag(sentence):\n",
    "    losses = {}\n",
    "    hyps, tagset = hypotheses(sentence)\n",
    "    for tag, hyp in zip(tagset, hyps):\n",
    "        input_ids = tokenizer.encode(hyp, return_tensors='pt').cuda(device)\n",
    "        model_output = model.forward(input_ids, labels=input_ids)\n",
    "        losses[tag] = float(model_output[\"loss\"].cpu().detach().numpy())\n",
    "    return min(losses, key=losses.get)\n",
    "\n",
    "def get_ner(text_to_tag):\n",
    "    text_tokens = text_to_tag.split()\n",
    "    sentence = ''\n",
    "    text_tags = []\n",
    "    result = {}\n",
    "    for token in text_tokens:\n",
    "        sentence += token+'_'\n",
    "        next_tag = choose_tag(sentence)\n",
    "        text_tags.append(next_tag)\n",
    "        sentence += next_tag+ ' '\n",
    "    for word, tag in zip(text_to_tag.split(), text_tags):\n",
    "        result[word] = tag\n",
    "    return text_tags"
   ]
  },
  {
   "cell_type": "code",
   "execution_count": 205,
   "id": "fef1b055-40cc-4c89-aefe-0138a43c23e6",
   "metadata": {},
   "outputs": [
    {
     "name": "stderr",
     "output_type": "stream",
     "text": [
      "100%|████████████████████████████████████████████████████████████████████████| 100/100 [08:57<00:00,  5.37s/it]"
     ]
    },
    {
     "name": "stdout",
     "output_type": "stream",
     "text": [
      "0.23563218390804597\n"
     ]
    },
    {
     "name": "stderr",
     "output_type": "stream",
     "text": [
      "\n"
     ]
    }
   ],
   "source": [
    "pred_tags_ru_de = []\n",
    "for text in tqdm(clean_texts_de):    \n",
    "    pred_tags_ru_de.append(get_ner(text))\n",
    "print(f1_score(pred_tags_ru_de, valid_tags_de))"
   ]
  },
  {
   "cell_type": "code",
   "execution_count": 206,
   "id": "04b8f4ba-a47e-4253-992f-d75d3d66330c",
   "metadata": {},
   "outputs": [
    {
     "name": "stdout",
     "output_type": "stream",
     "text": [
      "              precision    recall  f1-score   support\n",
      "\n",
      "        area       0.59      0.77      0.67        13\n",
      "        food       0.81      0.16      0.27       155\n",
      "        name       0.00      0.00      0.00         0\n",
      "  pricerange       0.32      0.06      0.10       103\n",
      "        this       0.00      0.00      0.00         0\n",
      "\n",
      "   micro avg       0.53      0.15      0.24       271\n",
      "   macro avg       0.34      0.20      0.21       271\n",
      "weighted avg       0.61      0.15      0.22       271\n",
      "\n"
     ]
    }
   ],
   "source": [
    "print(classification_report(pred_tags_ru_de,valid_tags_de, digits=2))"
   ]
  },
  {
   "cell_type": "code",
   "execution_count": 207,
   "id": "52ee7f17-780d-4c7a-8dde-a4fcddf29f8c",
   "metadata": {},
   "outputs": [
    {
     "name": "stdout",
     "output_type": "stream",
     "text": [
      "              precision    recall  f1-score   support\n",
      "\n",
      "      B-area       0.59      0.77      0.67        13\n",
      "      B-food       0.81      0.16      0.27       155\n",
      "      B-name       0.00      0.00      0.00         0\n",
      "B-pricerange       0.32      0.06      0.10       103\n",
      "      B-this       0.00      0.00      0.00         0\n",
      "      I-name       0.00      0.00      0.00         0\n",
      "      I-this       0.00      0.00      0.00         0\n",
      "           O       0.50      0.95      0.65       199\n",
      "\n",
      "    accuracy                           0.49       470\n",
      "   macro avg       0.28      0.24      0.21       470\n",
      "weighted avg       0.56      0.49      0.41       470\n",
      "\n"
     ]
    }
   ],
   "source": [
    "print(flat_classification_report(pred_tags_ru_de,valid_tags_de))"
   ]
  },
  {
   "cell_type": "code",
   "execution_count": 208,
   "id": "808500e6-8cf2-47a1-ae08-6d543ab73424",
   "metadata": {},
   "outputs": [
    {
     "data": {
      "image/png": "[encoded data removed]",
      "text/plain": [
       "<Figure size 720x720 with 2 Axes>"
      ]
     },
     "metadata": {
      "needs_background": "light"
     },
     "output_type": "display_data"
    }
   ],
   "source": [
    "pred_tags = MultiLabelBinarizer().fit_transform(pred_tags_ru_de)\n",
    "valid_tags = MultiLabelBinarizer().fit_transform(valid_tags_de)\n",
    "cm = confusion_matrix(valid_tags.argmax(axis=1), pred_tags.argmax(axis=1))\n",
    "fig, ax = plt.subplots(figsize=(10, 10))\n",
    "cax = ax.matshow(cm)\n",
    "plt.title('Confusion matrix of NER')\n",
    "fig.colorbar(cax)\n",
    "ax.set_xticklabels([''] + list(tagset))\n",
    "ax.set_yticklabels([''] + list(tagset))\n",
    "plt.xlabel('Predicted')\n",
    "plt.ylabel('True')\n",
    "plt.show()"
   ]
  },
  {
   "cell_type": "code",
   "execution_count": 209,
   "id": "cdced191-1896-4cf6-8332-2baaf3ff6ae7",
   "metadata": {},
   "outputs": [
    {
     "data": {
      "image/png": "[encoded data removed]",
      "text/plain": [
       "<Figure size 432x288 with 2 Axes>"
      ]
     },
     "metadata": {
      "needs_background": "light"
     },
     "output_type": "display_data"
    }
   ],
   "source": [
    "def show_confusion_matrix(confusion_matrix):\n",
    "    hmap = sns.heatmap(confusion_matrix, annot=True, fmt=\"d\", cmap=\"Blues\")\n",
    "    hmap.yaxis.set_ticklabels(hmap.yaxis.get_ticklabels(), rotation=0, ha='right')\n",
    "    hmap.xaxis.set_ticklabels(hmap.xaxis.get_ticklabels(), rotation=30, ha='right')\n",
    "    plt.ylabel('True tag')\n",
    "    plt.xlabel('Predicted tag');\n",
    "\n",
    "cm = confusion_matrix(valid_tags.argmax(axis=1), pred_tags.argmax(axis=1))\n",
    "df_cm = pd.DataFrame(cm)\n",
    "show_confusion_matrix(df_cm)"
   ]
  },
  {
   "cell_type": "code",
   "execution_count": 210,
   "id": "8ee48ad3-9055-4772-8bfd-a30d74dbcf0f",
   "metadata": {},
   "outputs": [],
   "source": [
    "# def hypotheses(test_data):\n",
    "#     pref = train_data+test_data\n",
    "#     hyps = [pref+tag for tag in tagset]\n",
    "#     return hyps, tagset\n",
    "\n",
    "# def choose_tag(sentence):\n",
    "#     losses = {}\n",
    "#     hyps, tagset = hypotheses(sentence)\n",
    "\n",
    "#     for tag, hyp in zip(tagset, hyps):\n",
    "#         input_ids = tokenizer.encode(hyp, return_tensors='pt').cuda(device)\n",
    "#         model_output = model.forward(input_ids, labels=input_ids)\n",
    "#         losses[tag] = float(model_output[\"loss\"].cpu().detach().numpy())\n",
    "#     return dict(sorted(losses.items(), key=lambda item: item[1])[:3])\n",
    "\n",
    "# def get_ner_tagger(text_to_tag):\n",
    "#     text_tokens = text_to_tag.split()\n",
    "#     sentences = [('',0.)]\n",
    "#     text_tags = []\n",
    "#     for token in text_tokens:\n",
    "#         new_sentences = []\n",
    "#         for sentence, sentence_proba in sentences:\n",
    "#             sentence += token+'_'\n",
    "#             next_tags = choose_tag(sentence)\n",
    "#             for next_tag, next_tag_proba in next_tags.items():\n",
    "#                 sentence_clone = sentence\n",
    "#                 sentence_clone += next_tag+ ' '\n",
    "#                 new_sentences.append((sentence_clone, next_tag_proba))\n",
    "#         sentences = new_sentences\n",
    "#     #print(dict(sentences))\n",
    "#     return dict(sorted(dict(sentences).items(), key=lambda item: item[1])[:10])"
   ]
  },
  {
   "cell_type": "code",
   "execution_count": 211,
   "id": "8306b94c-4202-4a02-bd84-1431d38ba2ed",
   "metadata": {},
   "outputs": [],
   "source": [
    "# get_ner_tagger('cheap restaurant in the city centre')"
   ]
  },
  {
   "cell_type": "code",
   "execution_count": 212,
   "id": "a92b54ea-24f7-40fa-8a7c-e0def31e5d7b",
   "metadata": {},
   "outputs": [],
   "source": [
    "#ТУТ ПОШЛИ МОИ КЕКСПЕРИМЕНТЫ"
   ]
  },
  {
   "cell_type": "code",
   "execution_count": 213,
   "id": "90eb4ee2-51b9-4e60-94bb-9b2b55b5771b",
   "metadata": {},
   "outputs": [],
   "source": [
    "# text = \"\"\"\n",
    "#         [Text]: food\n",
    "#         [Tags]: O\n",
    "#         ###\n",
    "#         [Text]: japanese\n",
    "#         [Tags]: B-food\n",
    "#         ###\n",
    "#         [Text]: Ich\n",
    "#         [Tags]: O\n",
    "#         ###\n",
    "#         [Text]: south\n",
    "#         [Tags]: B-area\n",
    "#         ###\n",
    "#         [Text]: moderate\n",
    "#         [Tags]: B-pricerange]\n",
    "#         ###\n",
    "#         [Text]: address\n",
    "#         [Tags]: O]\n",
    "#         ###\n",
    "#         [Text]: downtown\n",
    "#         [Tags]: B-area\n",
    "#         ###\n",
    "#         [Text]: town\n",
    "#         [Tags]: O\n",
    "#         ###\n",
    "#         [Text]: cheap\n",
    "#         [Tags]: B-pricerange\n",
    "#         ###\n",
    "#         [Text]: want\n",
    "#         [Tags]: O\n",
    "#         ###\n",
    "#         [Text]: expensive\n",
    "#         [Tags]:\"\"\"\n",
    "\n",
    "# input_ids = tokenizer.encode(text, return_tensors=\"pt\").to(device)\n",
    "# out = model.generate(input_ids,\n",
    "#                     max_length=690,         # max length of final sequence\n",
    "#                     do_sample=False,        # randomly pick next word according to probability distribution\n",
    "#                     repetition_penalty=0.1,  # discounts the scores of previously generated tokens (1 == do not apply)\n",
    "#                     pad_token_id=50256)    \n",
    "\n",
    "# generated_text = list(map(tokenizer.decode, out))[0]\n",
    "# print(generated_text)"
   ]
  },
  {
   "cell_type": "code",
   "execution_count": null,
   "id": "4f28618e-6368-4ad2-9675-48970d9e056c",
   "metadata": {},
   "outputs": [],
   "source": []
  }
 ],
 "metadata": {
  "kernelspec": {
   "display_name": "Python 3 (ipykernel)",
   "language": "python",
   "name": "python3"
  },
  "language_info": {
   "codemirror_mode": {
    "name": "ipython",
    "version": 3
   },
   "file_extension": ".py",
   "mimetype": "text/x-python",
   "name": "python",
   "nbconvert_exporter": "python",
   "pygments_lexer": "ipython3",
   "version": "3.7.12"
  }
 },
 "nbformat": 4,
 "nbformat_minor": 5
}
